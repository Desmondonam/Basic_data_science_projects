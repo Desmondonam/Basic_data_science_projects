{
  "nbformat": 4,
  "nbformat_minor": 0,
  "metadata": {
    "colab": {
      "provenance": [],
      "authorship_tag": "ABX9TyMaSkb6p7S1PaTps8qQprU2",
      "include_colab_link": true
    },
    "kernelspec": {
      "name": "python3",
      "display_name": "Python 3"
    },
    "language_info": {
      "name": "python"
    }
  },
  "cells": [
    {
      "cell_type": "markdown",
      "metadata": {
        "id": "view-in-github",
        "colab_type": "text"
      },
      "source": [
        "<a href=\"https://colab.research.google.com/github/Desmondonam/Basic_data_science_projects/blob/main/Predicting_House_Prices.ipynb\" target=\"_parent\"><img src=\"https://colab.research.google.com/assets/colab-badge.svg\" alt=\"Open In Colab\"/></a>"
      ]
    },
    {
      "cell_type": "markdown",
      "source": [
        "## House prediction project\n",
        "Build a regression model to predict house prices based on features like area, location, and amenities."
      ],
      "metadata": {
        "id": "Na5e1tx3cyrW"
      }
    },
    {
      "cell_type": "markdown",
      "source": [
        "## Practice Skills\n",
        "-- Creative feature engineering\n",
        "\n",
        "-- Advanced regression techniques like random forest and gradient boosting"
      ],
      "metadata": {
        "id": "6FpwiK6CdkiW"
      }
    },
    {
      "cell_type": "code",
      "execution_count": null,
      "metadata": {
        "id": "zjwi5fK7cmG9"
      },
      "outputs": [],
      "source": [
        "## import the neccesary packages"
      ]
    }
  ]
}